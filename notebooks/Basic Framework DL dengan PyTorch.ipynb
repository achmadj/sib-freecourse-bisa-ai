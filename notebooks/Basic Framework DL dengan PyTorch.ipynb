{
 "cells": [
  {
   "cell_type": "code",
   "execution_count": 1,
   "metadata": {},
   "outputs": [],
   "source": [
    "import torch\n",
    "import numpy as np"
   ]
  },
  {
   "cell_type": "code",
   "execution_count": 2,
   "metadata": {},
   "outputs": [
    {
     "data": {
      "text/plain": [
       "[[1, 2], [3, 4]]"
      ]
     },
     "execution_count": 2,
     "metadata": {},
     "output_type": "execute_result"
    }
   ],
   "source": [
    "data_latihan = [[1, 2], [3, 4]]\n",
    "data_latihan"
   ]
  },
  {
   "cell_type": "code",
   "execution_count": 3,
   "metadata": {},
   "outputs": [
    {
     "data": {
      "text/plain": [
       "list"
      ]
     },
     "execution_count": 3,
     "metadata": {},
     "output_type": "execute_result"
    }
   ],
   "source": [
    "type(data_latihan)"
   ]
  },
  {
   "cell_type": "code",
   "execution_count": 4,
   "metadata": {},
   "outputs": [
    {
     "data": {
      "text/plain": [
       "array([[1, 2],\n",
       "       [3, 4]])"
      ]
     },
     "execution_count": 4,
     "metadata": {},
     "output_type": "execute_result"
    }
   ],
   "source": [
    "np.array(data_latihan)"
   ]
  },
  {
   "cell_type": "code",
   "execution_count": 5,
   "metadata": {},
   "outputs": [
    {
     "data": {
      "text/plain": [
       "array([[1, 2],\n",
       "       [3, 4]])"
      ]
     },
     "execution_count": 5,
     "metadata": {},
     "output_type": "execute_result"
    }
   ],
   "source": [
    "np.asarray(data_latihan)"
   ]
  },
  {
   "cell_type": "code",
   "execution_count": 6,
   "metadata": {},
   "outputs": [
    {
     "data": {
      "text/plain": [
       "tensor([[1, 2],\n",
       "        [3, 4]])"
      ]
     },
     "execution_count": 6,
     "metadata": {},
     "output_type": "execute_result"
    }
   ],
   "source": [
    "torch.tensor(data_latihan)"
   ]
  },
  {
   "cell_type": "code",
   "execution_count": 7,
   "metadata": {},
   "outputs": [],
   "source": [
    "data_latihan = torch.tensor(data_latihan)"
   ]
  },
  {
   "cell_type": "code",
   "execution_count": 8,
   "metadata": {},
   "outputs": [
    {
     "data": {
      "text/plain": [
       "torch.Tensor"
      ]
     },
     "execution_count": 8,
     "metadata": {},
     "output_type": "execute_result"
    }
   ],
   "source": [
    "type(data_latihan)"
   ]
  },
  {
   "cell_type": "code",
   "execution_count": 9,
   "metadata": {},
   "outputs": [
    {
     "data": {
      "text/plain": [
       "torch.int64"
      ]
     },
     "execution_count": 9,
     "metadata": {},
     "output_type": "execute_result"
    }
   ],
   "source": [
    "data_latihan.dtype"
   ]
  },
  {
   "cell_type": "code",
   "execution_count": 10,
   "metadata": {},
   "outputs": [
    {
     "data": {
      "text/plain": [
       "array([[0.38975623, 0.61437328, 0.09181888, 0.65021015, 0.92061694],\n",
       "       [0.96771657, 0.16137785, 0.07509909, 0.5049288 , 0.78887783],\n",
       "       [0.17251954, 0.68101442, 0.79849957, 0.11917003, 0.62011255],\n",
       "       [0.51019293, 0.65232516, 0.19607938, 0.86967164, 0.59790608]])"
      ]
     },
     "execution_count": 10,
     "metadata": {},
     "output_type": "execute_result"
    }
   ],
   "source": [
    "numpy_array = np.random.rand(4, 5)\n",
    "numpy_array"
   ]
  },
  {
   "cell_type": "code",
   "execution_count": 11,
   "metadata": {},
   "outputs": [
    {
     "data": {
      "text/plain": [
       "tensor([[0.3898, 0.6144, 0.0918, 0.6502, 0.9206],\n",
       "        [0.9677, 0.1614, 0.0751, 0.5049, 0.7889],\n",
       "        [0.1725, 0.6810, 0.7985, 0.1192, 0.6201],\n",
       "        [0.5102, 0.6523, 0.1961, 0.8697, 0.5979]], dtype=torch.float64)"
      ]
     },
     "execution_count": 11,
     "metadata": {},
     "output_type": "execute_result"
    }
   ],
   "source": [
    "torch.from_numpy(numpy_array)"
   ]
  },
  {
   "cell_type": "code",
   "execution_count": 12,
   "metadata": {},
   "outputs": [
    {
     "data": {
      "text/plain": [
       "tensor([[0.3898, 0.6144, 0.0918, 0.6502, 0.9206],\n",
       "        [0.9677, 0.1614, 0.0751, 0.5049, 0.7889],\n",
       "        [0.1725, 0.6810, 0.7985, 0.1192, 0.6201],\n",
       "        [0.5102, 0.6523, 0.1961, 0.8697, 0.5979]], dtype=torch.float64)"
      ]
     },
     "execution_count": 12,
     "metadata": {},
     "output_type": "execute_result"
    }
   ],
   "source": [
    "torch.tensor(numpy_array)"
   ]
  },
  {
   "cell_type": "code",
   "execution_count": 13,
   "metadata": {},
   "outputs": [
    {
     "data": {
      "text/plain": [
       "tensor([[1., 1., 1., 1., 1.],\n",
       "        [1., 1., 1., 1., 1.],\n",
       "        [1., 1., 1., 1., 1.],\n",
       "        [1., 1., 1., 1., 1.]])"
      ]
     },
     "execution_count": 13,
     "metadata": {},
     "output_type": "execute_result"
    }
   ],
   "source": [
    "torch.ones(4, 5)"
   ]
  },
  {
   "cell_type": "code",
   "execution_count": 14,
   "metadata": {},
   "outputs": [
    {
     "data": {
      "text/plain": [
       "tensor([[0., 0., 0., 0., 0.],\n",
       "        [0., 0., 0., 0., 0.],\n",
       "        [0., 0., 0., 0., 0.],\n",
       "        [0., 0., 0., 0., 0.]])"
      ]
     },
     "execution_count": 14,
     "metadata": {},
     "output_type": "execute_result"
    }
   ],
   "source": [
    "torch.zeros(4, 5)"
   ]
  },
  {
   "cell_type": "code",
   "execution_count": 15,
   "metadata": {},
   "outputs": [
    {
     "data": {
      "text/plain": [
       "tensor([[ 0.0818,  0.3977,  0.6190,  1.5242, -0.2891, -0.7344],\n",
       "        [-0.9784,  1.2426, -1.9565,  0.0142, -0.9681,  0.0058],\n",
       "        [ 0.9102, -1.0919,  0.5895, -0.6921, -0.9096, -2.3397],\n",
       "        [ 1.1315,  0.7776, -2.3078, -0.9426,  1.0359,  0.6967],\n",
       "        [-0.3280, -0.6245,  0.8051, -0.1414, -0.2814,  0.2945],\n",
       "        [-0.9492, -0.7653, -0.6132,  0.1896, -0.5439, -2.3637]])"
      ]
     },
     "execution_count": 15,
     "metadata": {},
     "output_type": "execute_result"
    }
   ],
   "source": [
    "torch.randn(6, 6)"
   ]
  },
  {
   "cell_type": "code",
   "execution_count": 16,
   "metadata": {},
   "outputs": [
    {
     "data": {
      "text/plain": [
       "tensor([[0.0965, 0.1646, 0.2118, 0.1889, 0.7892, 0.4663],\n",
       "        [0.2078, 0.1979, 0.5047, 0.4285, 0.9914, 0.7297],\n",
       "        [0.3367, 0.4980, 0.6395, 0.7782, 0.5209, 0.3887],\n",
       "        [0.4921, 0.9278, 0.4546, 0.6824, 0.1632, 0.3711],\n",
       "        [0.7731, 0.6907, 0.7688, 0.4030, 0.0877, 0.9618],\n",
       "        [0.0924, 0.6716, 0.2115, 0.5449, 0.8081, 0.9966]])"
      ]
     },
     "execution_count": 16,
     "metadata": {},
     "output_type": "execute_result"
    }
   ],
   "source": [
    "torch.rand(6, 6)"
   ]
  },
  {
   "cell_type": "code",
   "execution_count": 17,
   "metadata": {},
   "outputs": [
    {
     "data": {
      "text/plain": [
       "tensor([0, 1, 2, 3, 4, 5])"
      ]
     },
     "execution_count": 17,
     "metadata": {},
     "output_type": "execute_result"
    }
   ],
   "source": [
    "torch.arange(6)"
   ]
  },
  {
   "cell_type": "code",
   "execution_count": 19,
   "metadata": {},
   "outputs": [
    {
     "data": {
      "text/plain": [
       "tensor([1.7753e+28, 1.3458e-14, 4.0099e-11, 6.7884e-07, 4.0046e-11, 2.6854e-06,\n",
       "        4.0046e-11, 4.2246e-05, 4.0046e-11, 1.7569e-04, 4.0046e-11, 1.0781e-08,\n",
       "        4.0046e-11, 4.2424e-08, 1.7035e+28, 1.3563e-19, 1.3563e-19, 1.0139e-08,\n",
       "        2.6179e-12, 2.5348e-09, 2.6321e-12, 6.4890e-07, 2.6035e-12, 1.6223e-07,\n",
       "        2.5753e-12, 1.6612e-04, 2.5607e-12, 1.0382e-05, 8.2516e+17, 2.0190e-19,\n",
       "        1.3563e-19, 4.5071e+16, 4.1719e-08, 1.4587e-19, 1.7183e-04, 1.4585e-19,\n",
       "        4.2417e-08, 1.4587e-19, 1.0918e-05, 1.4586e-19, 1.0546e-08, 1.4588e-19,\n",
       "        4.2720e-05, 3.1437e-12, 1.3589e-19, 1.3563e-19, 7.9717e-10, 1.0780e-08,\n",
       "        5.8270e-10, 1.0623e-05, 5.8270e-10, 1.6876e-07, 5.8270e-10, 1.0723e-08,\n",
       "        5.8270e-10, 4.2420e-08, 5.8270e-10, 2.6659e-09, 1.9406e+17, 1.3563e-19,\n",
       "        1.3563e-19, 4.0099e-11, 2.6079e-09, 4.0046e-11, 1.0504e-05, 4.0046e-11,\n",
       "        4.3920e-05, 4.0046e-11, 6.5188e-10, 4.0046e-11, 1.0921e-05, 4.0046e-11,\n",
       "        4.2251e-05, 1.7035e+28, 1.3563e-19, 1.3563e-19, 6.3370e-10, 2.5607e-12,\n",
       "        2.5956e-06, 2.5891e-12, 1.0139e-08, 2.5749e-12, 6.4890e-07, 2.6319e-12,\n",
       "        4.1530e-05, 2.5184e-12, 1.6612e-04, 8.2061e+17, 1.3472e+37, 3.1360e+27,\n",
       "        1.6636e+22, 3.0555e-18, 2.0863e+37, 4.7851e+22, 2.8826e+32, 1.8524e+28,\n",
       "        3.0346e+32, 6.1972e-04, 1.5136e+37, 6.2078e-43])"
      ]
     },
     "execution_count": 19,
     "metadata": {},
     "output_type": "execute_result"
    }
   ],
   "source": [
    "torch.Tensor(100)"
   ]
  },
  {
   "cell_type": "code",
   "execution_count": 20,
   "metadata": {},
   "outputs": [
    {
     "data": {
      "text/plain": [
       "tensor([[0.9860, 0.4980, 0.4241, 0.5063, 0.2277, 0.6774],\n",
       "        [0.5738, 0.1689, 0.1166, 0.5512, 0.1044, 0.8295],\n",
       "        [0.3327, 0.6406, 0.6129, 0.5121, 0.6967, 0.0404],\n",
       "        [0.0749, 0.9867, 0.7710, 0.2708, 0.6939, 0.7745],\n",
       "        [0.6744, 0.6431, 0.4145, 0.1823, 0.9045, 0.5959],\n",
       "        [0.4142, 0.7829, 0.5338, 0.5795, 0.9391, 0.3041]])"
      ]
     },
     "execution_count": 20,
     "metadata": {},
     "output_type": "execute_result"
    }
   ],
   "source": [
    "torch.rand(6, 6)"
   ]
  },
  {
   "cell_type": "code",
   "execution_count": 21,
   "metadata": {},
   "outputs": [],
   "source": [
    "praktikum_tensor = torch.rand(6, 6)"
   ]
  },
  {
   "cell_type": "code",
   "execution_count": 22,
   "metadata": {},
   "outputs": [
    {
     "data": {
      "text/plain": [
       "torch.float32"
      ]
     },
     "execution_count": 22,
     "metadata": {},
     "output_type": "execute_result"
    }
   ],
   "source": [
    "praktikum_tensor.dtype"
   ]
  },
  {
   "cell_type": "code",
   "execution_count": 23,
   "metadata": {},
   "outputs": [
    {
     "data": {
      "text/plain": [
       "device(type='cpu')"
      ]
     },
     "execution_count": 23,
     "metadata": {},
     "output_type": "execute_result"
    }
   ],
   "source": [
    "praktikum_tensor.device"
   ]
  },
  {
   "cell_type": "code",
   "execution_count": 24,
   "metadata": {},
   "outputs": [
    {
     "data": {
      "text/plain": [
       "tensor([[0.9042, 0.7062],\n",
       "        [0.9753, 0.6735],\n",
       "        [0.0712, 0.0459],\n",
       "        [0.8238, 0.5852],\n",
       "        [0.6702, 0.1337],\n",
       "        [0.6500, 0.4433]])"
      ]
     },
     "execution_count": 24,
     "metadata": {},
     "output_type": "execute_result"
    }
   ],
   "source": [
    "praktikum_tensor[:, 1:3]"
   ]
  },
  {
   "cell_type": "code",
   "execution_count": 25,
   "metadata": {},
   "outputs": [
    {
     "data": {
      "text/plain": [
       "tensor([[4.7475e-02, 8.1752e-01, 4.9874e-01, 2.3555e-02, 5.3931e-01, 2.5729e-03],\n",
       "        [8.9010e-02, 9.5112e-01, 4.5362e-01, 3.0767e-01, 2.7825e-01, 5.1785e-04],\n",
       "        [8.6555e-02, 5.0742e-03, 2.1041e-03, 4.3268e-01, 4.3722e-02, 8.2826e-01],\n",
       "        [6.6764e-02, 6.7862e-01, 3.4248e-01, 6.4355e-02, 7.8355e-01, 9.6664e-02],\n",
       "        [6.7435e-02, 4.4917e-01, 1.7870e-02, 9.7099e-02, 7.7626e-03, 4.7003e-01],\n",
       "        [1.0690e-01, 4.2251e-01, 1.9652e-01, 9.6243e-01, 3.0870e-02, 7.8007e-02]])"
      ]
     },
     "execution_count": 25,
     "metadata": {},
     "output_type": "execute_result"
    }
   ],
   "source": [
    "praktikum_tensor.mul(praktikum_tensor)"
   ]
  },
  {
   "cell_type": "code",
   "execution_count": 26,
   "metadata": {},
   "outputs": [
    {
     "data": {
      "text/plain": [
       "tensor([[4.7475e-02, 8.1752e-01, 4.9874e-01, 2.3555e-02, 5.3931e-01, 2.5729e-03],\n",
       "        [8.9010e-02, 9.5112e-01, 4.5362e-01, 3.0767e-01, 2.7825e-01, 5.1785e-04],\n",
       "        [8.6555e-02, 5.0742e-03, 2.1041e-03, 4.3268e-01, 4.3722e-02, 8.2826e-01],\n",
       "        [6.6764e-02, 6.7862e-01, 3.4248e-01, 6.4355e-02, 7.8355e-01, 9.6664e-02],\n",
       "        [6.7435e-02, 4.4917e-01, 1.7870e-02, 9.7099e-02, 7.7626e-03, 4.7003e-01],\n",
       "        [1.0690e-01, 4.2251e-01, 1.9652e-01, 9.6243e-01, 3.0870e-02, 7.8007e-02]])"
      ]
     },
     "execution_count": 26,
     "metadata": {},
     "output_type": "execute_result"
    }
   ],
   "source": [
    "praktikum_tensor*praktikum_tensor"
   ]
  },
  {
   "cell_type": "code",
   "execution_count": 27,
   "metadata": {},
   "outputs": [
    {
     "data": {
      "text/plain": [
       "tensor([[1.9292, 1.8961, 0.4616, 1.9192, 0.9043, 1.2658],\n",
       "        [1.8961, 2.0802, 0.6840, 1.8894, 1.0560, 1.6732],\n",
       "        [0.4616, 0.6840, 1.3984, 0.7965, 0.9776, 1.0991],\n",
       "        [1.9192, 1.8894, 0.7965, 2.0324, 1.0676, 1.3706],\n",
       "        [0.9043, 1.0560, 0.9776, 1.0676, 1.1094, 1.0925],\n",
       "        [1.2658, 1.6732, 1.0991, 1.3706, 1.0925, 1.7972]])"
      ]
     },
     "execution_count": 27,
     "metadata": {},
     "output_type": "execute_result"
    }
   ],
   "source": [
    "praktikum_tensor.matmul(praktikum_tensor.T)"
   ]
  },
  {
   "cell_type": "code",
   "execution_count": 28,
   "metadata": {},
   "outputs": [
    {
     "data": {
      "text/plain": [
       "tensor([[1.9292, 1.8961, 0.4616, 1.9192, 0.9043, 1.2658],\n",
       "        [1.8961, 2.0802, 0.6840, 1.8894, 1.0560, 1.6732],\n",
       "        [0.4616, 0.6840, 1.3984, 0.7965, 0.9776, 1.0991],\n",
       "        [1.9192, 1.8894, 0.7965, 2.0324, 1.0676, 1.3706],\n",
       "        [0.9043, 1.0560, 0.9776, 1.0676, 1.1094, 1.0925],\n",
       "        [1.2658, 1.6732, 1.0991, 1.3706, 1.0925, 1.7972]])"
      ]
     },
     "execution_count": 28,
     "metadata": {},
     "output_type": "execute_result"
    }
   ],
   "source": [
    "torch.matmul(praktikum_tensor, praktikum_tensor.T)"
   ]
  },
  {
   "cell_type": "code",
   "execution_count": 29,
   "metadata": {},
   "outputs": [
    {
     "data": {
      "text/plain": [
       "tensor([[1.9292, 1.8961, 0.4616, 1.9192, 0.9043, 1.2658],\n",
       "        [1.8961, 2.0802, 0.6840, 1.8894, 1.0560, 1.6732],\n",
       "        [0.4616, 0.6840, 1.3984, 0.7965, 0.9776, 1.0991],\n",
       "        [1.9192, 1.8894, 0.7965, 2.0324, 1.0676, 1.3706],\n",
       "        [0.9043, 1.0560, 0.9776, 1.0676, 1.1094, 1.0925],\n",
       "        [1.2658, 1.6732, 1.0991, 1.3706, 1.0925, 1.7972]])"
      ]
     },
     "execution_count": 29,
     "metadata": {},
     "output_type": "execute_result"
    }
   ],
   "source": [
    "praktikum_tensor @ praktikum_tensor.T"
   ]
  },
  {
   "cell_type": "code",
   "execution_count": 30,
   "metadata": {},
   "outputs": [
    {
     "data": {
      "text/plain": [
       "tensor([2.7668, 3.0521, 2.1883, 3.1172, 2.1489, 2.8563])"
      ]
     },
     "execution_count": 30,
     "metadata": {},
     "output_type": "execute_result"
    }
   ],
   "source": [
    "praktikum_tensor.sum(axis=1)"
   ]
  },
  {
   "cell_type": "code",
   "execution_count": 31,
   "metadata": {},
   "outputs": [
    {
     "data": {
      "text/plain": [
       "tensor([[0.2179, 0.9042, 0.7062, 0.1535, 0.7344, 0.0507, 0.2179, 0.9042, 0.7062,\n",
       "         0.1535, 0.7344, 0.0507],\n",
       "        [0.2983, 0.9753, 0.6735, 0.5547, 0.5275, 0.0228, 0.2983, 0.9753, 0.6735,\n",
       "         0.5547, 0.5275, 0.0228],\n",
       "        [0.2942, 0.0712, 0.0459, 0.6578, 0.2091, 0.9101, 0.2942, 0.0712, 0.0459,\n",
       "         0.6578, 0.2091, 0.9101],\n",
       "        [0.2584, 0.8238, 0.5852, 0.2537, 0.8852, 0.3109, 0.2584, 0.8238, 0.5852,\n",
       "         0.2537, 0.8852, 0.3109],\n",
       "        [0.2597, 0.6702, 0.1337, 0.3116, 0.0881, 0.6856, 0.2597, 0.6702, 0.1337,\n",
       "         0.3116, 0.0881, 0.6856],\n",
       "        [0.3269, 0.6500, 0.4433, 0.9810, 0.1757, 0.2793, 0.3269, 0.6500, 0.4433,\n",
       "         0.9810, 0.1757, 0.2793]])"
      ]
     },
     "execution_count": 31,
     "metadata": {},
     "output_type": "execute_result"
    }
   ],
   "source": [
    "torch.cat([praktikum_tensor, praktikum_tensor], axis=1)"
   ]
  },
  {
   "cell_type": "code",
   "execution_count": 32,
   "metadata": {},
   "outputs": [
    {
     "data": {
      "text/plain": [
       "tensor([[0.2179, 0.9042, 0.7062, 0.1535, 0.7344, 0.0507],\n",
       "        [0.2983, 0.9753, 0.6735, 0.5547, 0.5275, 0.0228],\n",
       "        [0.2942, 0.0712, 0.0459, 0.6578, 0.2091, 0.9101],\n",
       "        [0.2584, 0.8238, 0.5852, 0.2537, 0.8852, 0.3109],\n",
       "        [0.2597, 0.6702, 0.1337, 0.3116, 0.0881, 0.6856],\n",
       "        [0.3269, 0.6500, 0.4433, 0.9810, 0.1757, 0.2793],\n",
       "        [0.2179, 0.9042, 0.7062, 0.1535, 0.7344, 0.0507],\n",
       "        [0.2983, 0.9753, 0.6735, 0.5547, 0.5275, 0.0228],\n",
       "        [0.2942, 0.0712, 0.0459, 0.6578, 0.2091, 0.9101],\n",
       "        [0.2584, 0.8238, 0.5852, 0.2537, 0.8852, 0.3109],\n",
       "        [0.2597, 0.6702, 0.1337, 0.3116, 0.0881, 0.6856],\n",
       "        [0.3269, 0.6500, 0.4433, 0.9810, 0.1757, 0.2793]])"
      ]
     },
     "execution_count": 32,
     "metadata": {},
     "output_type": "execute_result"
    }
   ],
   "source": [
    "torch.cat([praktikum_tensor, praktikum_tensor], axis=0)"
   ]
  },
  {
   "cell_type": "code",
   "execution_count": 33,
   "metadata": {},
   "outputs": [
    {
     "data": {
      "text/plain": [
       "torch.Size([6, 6])"
      ]
     },
     "execution_count": 33,
     "metadata": {},
     "output_type": "execute_result"
    }
   ],
   "source": [
    "praktikum_tensor.shape"
   ]
  },
  {
   "cell_type": "code",
   "execution_count": 34,
   "metadata": {},
   "outputs": [
    {
     "data": {
      "text/plain": [
       "torch.Size([6, 6])"
      ]
     },
     "execution_count": 34,
     "metadata": {},
     "output_type": "execute_result"
    }
   ],
   "source": [
    "praktikum_tensor.size()"
   ]
  },
  {
   "cell_type": "code",
   "execution_count": 35,
   "metadata": {},
   "outputs": [
    {
     "data": {
      "text/plain": [
       "tensor([[0.5000, 0.8000, 0.7062, 0.5000, 0.7344, 0.5000],\n",
       "        [0.5000, 0.8000, 0.6735, 0.5547, 0.5275, 0.5000],\n",
       "        [0.5000, 0.5000, 0.5000, 0.6578, 0.5000, 0.8000],\n",
       "        [0.5000, 0.8000, 0.5852, 0.5000, 0.8000, 0.5000],\n",
       "        [0.5000, 0.6702, 0.5000, 0.5000, 0.5000, 0.6856],\n",
       "        [0.5000, 0.6500, 0.5000, 0.8000, 0.5000, 0.5000]])"
      ]
     },
     "execution_count": 35,
     "metadata": {},
     "output_type": "execute_result"
    }
   ],
   "source": [
    "praktikum_tensor.clip(0.5, 0.8)"
   ]
  },
  {
   "cell_type": "code",
   "execution_count": 36,
   "metadata": {},
   "outputs": [
    {
     "data": {
      "text/plain": [
       "array([[0.2178874 , 0.90416616, 0.706216  , 0.15347672, 0.73437864,\n",
       "        0.05072415],\n",
       "       [0.29834622, 0.9752556 , 0.673514  , 0.5546838 , 0.5274952 ,\n",
       "        0.0227564 ],\n",
       "       [0.2942021 , 0.07123363, 0.04587036, 0.65778077, 0.20909852,\n",
       "        0.91009027],\n",
       "       [0.25838667, 0.8237845 , 0.58521676, 0.25368267, 0.8851853 ,\n",
       "        0.3109085 ],\n",
       "       [0.25968271, 0.6701985 , 0.13367689, 0.31160754, 0.08810574,\n",
       "        0.68558484],\n",
       "       [0.32694912, 0.6500094 , 0.4433046 , 0.9810373 , 0.17569727,\n",
       "        0.27929753]], dtype=float32)"
      ]
     },
     "execution_count": 36,
     "metadata": {},
     "output_type": "execute_result"
    }
   ],
   "source": [
    "praktikum_tensor.cpu().detach().numpy()"
   ]
  },
  {
   "cell_type": "code",
   "execution_count": null,
   "metadata": {},
   "outputs": [],
   "source": []
  }
 ],
 "metadata": {
  "kernelspec": {
   "display_name": "Python 3 (ipykernel)",
   "language": "python",
   "name": "python3"
  },
  "language_info": {
   "codemirror_mode": {
    "name": "ipython",
    "version": 3
   },
   "file_extension": ".py",
   "mimetype": "text/x-python",
   "name": "python",
   "nbconvert_exporter": "python",
   "pygments_lexer": "ipython3",
   "version": "3.9.7"
  },
  "vscode": {
   "interpreter": {
    "hash": "5bbba347d722a89ea6e84d08628b107fde5db921eccb8248f64f194105b3b83f"
   }
  }
 },
 "nbformat": 4,
 "nbformat_minor": 2
}
